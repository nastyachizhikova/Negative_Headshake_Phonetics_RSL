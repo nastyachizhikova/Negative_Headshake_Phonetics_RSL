{
 "cells": [
  {
   "cell_type": "code",
   "execution_count": 1,
   "metadata": {},
   "outputs": [],
   "source": [
    "import pandas as pd\n",
    "import matplotlib.pyplot as plt\n",
    "import numpy as np\n",
    "import os, sys"
   ]
  },
  {
   "cell_type": "markdown",
   "metadata": {},
   "source": [
    "#### Open csv-files with OpenFace analysis results"
   ]
  },
  {
   "cell_type": "code",
   "execution_count": 15,
   "metadata": {},
   "outputs": [],
   "source": [
    "def get_one_video(file_name: str):\n",
    "    with open(file_name) as f:\n",
    "        video_df = pd.read_csv(file_name, sep=',')\n",
    "        return video_df[[' timestamp', ' confidence', ' pose_Rx', ' pose_Ry', ' pose_Rz']]"
   ]
  },
  {
   "cell_type": "markdown",
   "metadata": {},
   "source": [
    "#### Build graph for sentence with negation boundaries"
   ]
  },
  {
   "cell_type": "code",
   "execution_count": 38,
   "metadata": {},
   "outputs": [],
   "source": [
    "def build_and_save_graph(graph_name: str, df: pd.DataFrame, neg_annotations=None):\n",
    "    plt.plot(df[' timestamp'], df[' pose_Ry'])\n",
    "    \n",
    "    for annot in neg_annotations: \n",
    "        plt.vlines(x=annot[0] / 1000, ymin=min(df[' pose_Ry']), ymax=max(df[' pose_Ry']), colors='red', linestyles='dashed')\n",
    "        plt.vlines(x=annot[1] / 1000, ymin=min(df[' pose_Ry']), ymax=max(df[' pose_Ry']), colors='red', linestyles='dashed')\n",
    "    \n",
    "    path = f'../new_extracted/annot_cut_3/graphs/{graph_name}.png'\n",
    "    plt.savefig(path)\n",
    "    plt.close()"
   ]
  },
  {
   "cell_type": "markdown",
   "metadata": {},
   "source": [
    "#### Add offsets that we used when cutted our fragments"
   ]
  },
  {
   "cell_type": "code",
   "execution_count": 40,
   "metadata": {},
   "outputs": [],
   "source": [
    "def get_processed_name(path):\n",
    "    path_dirs = path.split('/')\n",
    "    return '.'+'/'.join(path_dirs[:-1]) + '/processed/' + path_dirs[-1] + '.csv'\n",
    "\n",
    "\n",
    "def get_neg_annots(annotations, s_offset, end_offset):\n",
    "    annots_with_offset = []\n",
    "    \n",
    "    for annot in annotations:\n",
    "        annots_with_offset.append((annot[0] + s_offset + 80, annot[1] + end_offset - 80))\n",
    "    \n",
    "    return annots_with_offset\n",
    "\n",
    "\n",
    "def get_graph_for_one_fragment(row):\n",
    "    path = row['path']\n",
    "    annotations, s_offset, end_offset = row['annotations']\n",
    "    \n",
    "    processed_path = get_processed_name(path)\n",
    "    neg_annotations = get_neg_annots(annotations, s_offset, end_offset)\n",
    "    \n",
    "    df = get_one_video(processed_path)\n",
    "    graph_name = processed_path.split('/')[-1].replace('.csv', '')\n",
    "    \n",
    "    build_and_save_graph(graph_name, df, neg_annotations)"
   ]
  },
  {
   "cell_type": "code",
   "execution_count": 41,
   "metadata": {},
   "outputs": [],
   "source": [
    "annot_df = pd.read_csv('../video_annotations.csv')\n",
    "annot_df.drop(columns=['Unnamed: 0'], inplace=True)\n",
    "annot_df.annotations = annot_df.annotations.apply(eval)"
   ]
  },
  {
   "cell_type": "code",
   "execution_count": 42,
   "metadata": {},
   "outputs": [
    {
     "data": {
      "text/html": [
       "<div>\n",
       "<style scoped>\n",
       "    .dataframe tbody tr th:only-of-type {\n",
       "        vertical-align: middle;\n",
       "    }\n",
       "\n",
       "    .dataframe tbody tr th {\n",
       "        vertical-align: top;\n",
       "    }\n",
       "\n",
       "    .dataframe thead th {\n",
       "        text-align: right;\n",
       "    }\n",
       "</style>\n",
       "<table border=\"1\" class=\"dataframe\">\n",
       "  <thead>\n",
       "    <tr style=\"text-align: right;\">\n",
       "      <th></th>\n",
       "      <th>path</th>\n",
       "      <th>annotations</th>\n",
       "    </tr>\n",
       "  </thead>\n",
       "  <tbody>\n",
       "    <tr>\n",
       "      <th>0</th>\n",
       "      <td>./new_extracted/new_cut/new_fragments/RSLM-cr1...</td>\n",
       "      <td>([(2440, 2680, )], -80, 80)</td>\n",
       "    </tr>\n",
       "    <tr>\n",
       "      <th>1</th>\n",
       "      <td>./negation VK 21.03.2022/RSLM-cr4-s13_NE_6</td>\n",
       "      <td>([(0, 720, hs)], -80, 80)</td>\n",
       "    </tr>\n",
       "    <tr>\n",
       "      <th>2</th>\n",
       "      <td>./negation VK 21.03.2022/RSLM-cr5-s22_NE_10</td>\n",
       "      <td>([(200, 520, hs)], -80, 80)</td>\n",
       "    </tr>\n",
       "    <tr>\n",
       "      <th>3</th>\n",
       "      <td>./negation VK 21.03.2022/RSLM-m5-s40-d-std_NE_20</td>\n",
       "      <td>([(520, 1080, hs)], 80, 240)</td>\n",
       "    </tr>\n",
       "    <tr>\n",
       "      <th>4</th>\n",
       "      <td>./negation VK 21.03.2022/RSLM-m5-s40-d-std_NEG_0</td>\n",
       "      <td>([(1320, 1680, hs)], -80, 80)</td>\n",
       "    </tr>\n",
       "    <tr>\n",
       "      <th>...</th>\n",
       "      <td>...</td>\n",
       "      <td>...</td>\n",
       "    </tr>\n",
       "    <tr>\n",
       "      <th>67</th>\n",
       "      <td>./negation VK 21.03.2022/RSLN-n5-s25-d-std_NET...</td>\n",
       "      <td>([(1650, 2975, hs)], -80, 80)</td>\n",
       "    </tr>\n",
       "    <tr>\n",
       "      <th>68</th>\n",
       "      <td>./negation VK 21.03.2022/RSLN-n5-s25-d-std_NET...</td>\n",
       "      <td>([(5500, 6625, hs)], -80, 80)</td>\n",
       "    </tr>\n",
       "    <tr>\n",
       "      <th>69</th>\n",
       "      <td>./negation VK 21.03.2022/RSLN-n5-s25-d-std_NET...</td>\n",
       "      <td>([(3975, 4925, hs)], -80, 80)</td>\n",
       "    </tr>\n",
       "    <tr>\n",
       "      <th>70</th>\n",
       "      <td>./negation VK 21.03.2022/RSLN-n5-s25-d-std_NET...</td>\n",
       "      <td>([(1600, 3000, hs)], -80, 80)</td>\n",
       "    </tr>\n",
       "    <tr>\n",
       "      <th>71</th>\n",
       "      <td>./negation VK 21.03.2022/RSLN-n9-s25-d-std_NET...</td>\n",
       "      <td>([(2800, 3175, hs)], -80, 80)</td>\n",
       "    </tr>\n",
       "  </tbody>\n",
       "</table>\n",
       "<p>72 rows × 2 columns</p>\n",
       "</div>"
      ],
      "text/plain": [
       "                                                 path  \\\n",
       "0   ./new_extracted/new_cut/new_fragments/RSLM-cr1...   \n",
       "1          ./negation VK 21.03.2022/RSLM-cr4-s13_NE_6   \n",
       "2         ./negation VK 21.03.2022/RSLM-cr5-s22_NE_10   \n",
       "3    ./negation VK 21.03.2022/RSLM-m5-s40-d-std_NE_20   \n",
       "4    ./negation VK 21.03.2022/RSLM-m5-s40-d-std_NEG_0   \n",
       "..                                                ...   \n",
       "67  ./negation VK 21.03.2022/RSLN-n5-s25-d-std_NET...   \n",
       "68  ./negation VK 21.03.2022/RSLN-n5-s25-d-std_NET...   \n",
       "69  ./negation VK 21.03.2022/RSLN-n5-s25-d-std_NET...   \n",
       "70  ./negation VK 21.03.2022/RSLN-n5-s25-d-std_NET...   \n",
       "71  ./negation VK 21.03.2022/RSLN-n9-s25-d-std_NET...   \n",
       "\n",
       "                      annotations  \n",
       "0     ([(2440, 2680, )], -80, 80)  \n",
       "1       ([(0, 720, hs)], -80, 80)  \n",
       "2     ([(200, 520, hs)], -80, 80)  \n",
       "3    ([(520, 1080, hs)], 80, 240)  \n",
       "4   ([(1320, 1680, hs)], -80, 80)  \n",
       "..                            ...  \n",
       "67  ([(1650, 2975, hs)], -80, 80)  \n",
       "68  ([(5500, 6625, hs)], -80, 80)  \n",
       "69  ([(3975, 4925, hs)], -80, 80)  \n",
       "70  ([(1600, 3000, hs)], -80, 80)  \n",
       "71  ([(2800, 3175, hs)], -80, 80)  \n",
       "\n",
       "[72 rows x 2 columns]"
      ]
     },
     "execution_count": 42,
     "metadata": {},
     "output_type": "execute_result"
    }
   ],
   "source": [
    "annot_df"
   ]
  },
  {
   "cell_type": "code",
   "execution_count": 43,
   "metadata": {},
   "outputs": [
    {
     "name": "stderr",
     "output_type": "stream",
     "text": [
      "C:\\anaconda\\lib\\site-packages\\matplotlib\\cbook\\__init__.py:1402: FutureWarning: Support for multi-dimensional indexing (e.g. `obj[:, None]`) is deprecated and will be removed in a future version.  Convert to a numpy array before indexing instead.\n",
      "  x[:, None]\n",
      "C:\\anaconda\\lib\\site-packages\\matplotlib\\axes\\_base.py:276: FutureWarning: Support for multi-dimensional indexing (e.g. `obj[:, None]`) is deprecated and will be removed in a future version.  Convert to a numpy array before indexing instead.\n",
      "  x = x[:, np.newaxis]\n",
      "C:\\anaconda\\lib\\site-packages\\matplotlib\\axes\\_base.py:278: FutureWarning: Support for multi-dimensional indexing (e.g. `obj[:, None]`) is deprecated and will be removed in a future version.  Convert to a numpy array before indexing instead.\n",
      "  y = y[:, np.newaxis]\n"
     ]
    },
    {
     "data": {
      "text/plain": [
       "0     None\n",
       "1     None\n",
       "2     None\n",
       "3     None\n",
       "4     None\n",
       "      ... \n",
       "67    None\n",
       "68    None\n",
       "69    None\n",
       "70    None\n",
       "71    None\n",
       "Length: 72, dtype: object"
      ]
     },
     "execution_count": 43,
     "metadata": {},
     "output_type": "execute_result"
    }
   ],
   "source": [
    "annot_df.apply(get_graph_for_one_fragment, axis=1)"
   ]
  },
  {
   "cell_type": "code",
   "execution_count": null,
   "metadata": {},
   "outputs": [],
   "source": []
  }
 ],
 "metadata": {
  "kernelspec": {
   "display_name": "Python 3 (ipykernel)",
   "language": "python",
   "name": "python3"
  },
  "language_info": {
   "codemirror_mode": {
    "name": "ipython",
    "version": 3
   },
   "file_extension": ".py",
   "mimetype": "text/x-python",
   "name": "python",
   "nbconvert_exporter": "python",
   "pygments_lexer": "ipython3",
   "version": "3.7.3"
  }
 },
 "nbformat": 4,
 "nbformat_minor": 2
}
